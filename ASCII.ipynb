{
 "cells": [
  {
   "cell_type": "code",
   "execution_count": null,
   "id": "28729682",
   "metadata": {},
   "outputs": [],
   "source": [
    "#Sad face to Smiley face!"
   ]
  },
  {
   "cell_type": "code",
   "execution_count": null,
   "id": "961fab57",
   "metadata": {},
   "outputs": [],
   "source": [
    "print(\"     _.-'''''-._     \") \n",
    "print(\"   .'  _     _  '.   \")    \n",
    "print(\"  /   (o)   (o)   \\  \")  \n",
    "print(\" |                 | \")\n",
    "print(\" |                 | \")\n",
    "print(\"  \\               /  \")  \n",
    "print(\"   '.           .'   \")   \n",
    "print(\"     '-._____.-     \")"
   ]
  },
  {
   "cell_type": "code",
   "execution_count": null,
   "id": "ce55073b",
   "metadata": {},
   "outputs": [],
   "source": [
    "print(\"     _.-'''''-._     \") \n",
    "print(\"   .'  _     _  '.   \")    \n",
    "print(\"  /   (o)   (o)   \\  \")  \n",
    "print(\" |                 | \")\n",
    "print(\" |  \\           /  | \")\n",
    "print(\"  \\  '.       .'  /  \")  \n",
    "print(\"   '.  `'---'`  .'   \")   \n",
    "print(\"     '-._____.-     \")"
   ]
  }
 ],
 "metadata": {
  "kernelspec": {
   "display_name": "Python 3 (ipykernel)",
   "language": "python",
   "name": "python3"
  },
  "language_info": {
   "codemirror_mode": {
    "name": "ipython",
    "version": 3
   },
   "file_extension": ".py",
   "mimetype": "text/x-python",
   "name": "python",
   "nbconvert_exporter": "python",
   "pygments_lexer": "ipython3",
   "version": "3.9.12"
  }
 },
 "nbformat": 4,
 "nbformat_minor": 5
}
