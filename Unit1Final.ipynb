{
 "cells": [
  {
   "cell_type": "code",
   "execution_count": 322,
   "id": "f6c75b3d",
   "metadata": {},
   "outputs": [
    {
     "name": "stdout",
     "output_type": "stream",
     "text": [
      "Unsorted : [20, 29, 13, 35, 11, 41, 8, 35, 30, 43, 5, 17, 46, 36, 23, 22, 50]\n",
      "Sorted values:  [5, 8, 11, 13, 17, 20, 22, 23, 29, 30, 35, 35, 36, 41, 43, 46, 50]\n",
      "Time is:  0.00096\n"
     ]
    }
   ],
   "source": [
    "from operator import index\n",
    "import time, random\n",
    "start = time.time()\n",
    "\n",
    "input_list = []\n",
    "range1 = random.randint(10,25)\n",
    "for i in range(range1):\n",
    "    x = random.randint(0,50)\n",
    "    input_list.append(x)\n",
    "print(\"Unsorted :\" ,input_list)\n",
    "#print (\"The list before being sorted and before removing duplicates: \" + str(input_list)) \n",
    "\n",
    "# printing list after removal \n",
    "#print (\"The list after removing duplicates : \" + str(input_list))\n",
    "#input_list = [10,11,1.20,0.22,0.43,0.36,0.39,27,89,10,90]\n",
    "#input_list = [7, 13, 3, 27, 26, 19, 4, 9, 1, 16, 6, 26, 20, 20, 13, 23, 17]\n",
    "lenght = len(input_list)\n",
    "max = input_list[0]\n",
    "for i in input_list: #This will find the largest value from your elements.\n",
    "    if i > max:\n",
    "        max = i\n",
    "lenght = len(input_list) #This will find the length your list\n",
    "bucket_size = max / lenght #This will create buckets size of the sub_buckets \n",
    "#print(bucket_size)\n",
    "buckets = [[] for i in range(lenght)]\n",
    "for i in range(lenght):#This for loop will be placing each element into its own sub_bucket list.\n",
    "    index = int (input_list[i]/ bucket_size)\n",
    "    if index != lenght:\n",
    "        buckets[index].append(input_list[i])\n",
    "else:\n",
    "    buckets[lenght - 1].append(input_list [i])\n",
    "    #buckets[lenght - 1].append(input_list [i])\n",
    "for i in range(len(input_list)): #This for loop will sort the small sub_buckets form the smallest to the largest.\n",
    "    buckets[i] = sorted (buckets[i])\n",
    "    #print(\"The buckets: \", buckets)\n",
    "    result_values = []\n",
    "    for i in range(lenght): #This for loop will combine the sub_buckets into one sorted list.\n",
    "        result_values = result_values + buckets[i]\n",
    "        #revoming duplicated from the list.\n",
    "        result_values2 = []\n",
    "print(\"Sorted values: \", result_values)\n",
    "end = time.time()\n",
    "print(\"Time is: \", round(end - start , 5))"
   ]
  },
  {
   "cell_type": "code",
   "execution_count": null,
   "id": "dbe47285",
   "metadata": {},
   "outputs": [],
   "source": [
    "import random\n",
    "input_list = []\n",
    "range1 = random.randint(0,20)\n",
    "for i in range(range1):\n",
    "    x = random.randint(0,30)\n",
    "    input_list.append(x)\n",
    "print(input_list)"
   ]
  }
 ],
 "metadata": {
  "kernelspec": {
   "display_name": "Python 3.10.7 64-bit (microsoft store)",
   "language": "python",
   "name": "python3"
  },
  "language_info": {
   "codemirror_mode": {
    "name": "ipython",
    "version": 3
   },
   "file_extension": ".py",
   "mimetype": "text/x-python",
   "name": "python",
   "nbconvert_exporter": "python",
   "pygments_lexer": "ipython3",
   "version": "3.10.7"
  },
  "vscode": {
   "interpreter": {
    "hash": "791f65838cec2b63fb0c2222cec7d9c0a0a8e93fdff3fc6e4f51e9154f4ce418"
   }
  }
 },
 "nbformat": 4,
 "nbformat_minor": 5
}
