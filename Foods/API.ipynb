{
 "cells": [
  {
   "cell_type": "code",
   "execution_count": 97,
   "id": "f8cb11ae",
   "metadata": {},
   "outputs": [],
   "source": [
    "import requests\n",
    "import pandas as pd\n",
    "import seaborn as sns\n",
    "#Original url\n",
    "#url = \"https://api.nal.usda.gov/fdc/v1/foods/list?query=apple&pageSize=2&api_key=drw0gUPJSS5U0u3XGRPtYX0jC3Bw4vXW3FaMw3en\"\n",
    "#New page url\n",
    "#url = \"https://api.nal.usda.gov/fdc/v1/foods/list?api_key=drw0gUPJSS5U0u3XGRPtYX0jC3Bw4vXW3FaMw3en\"\n",
    "#url = \"https://api.nal.usda.gov/fdc/v1/foods/list?dataType=Foundation,SR%20Legacy&pageSize=200&pageNumber=51\"\n",
    "\n",
    "#print(url.json())\n",
    "#responce = requests.get(url)"
   ]
  },
  {
   "cell_type": "code",
   "execution_count": 98,
   "id": "07911915",
   "metadata": {},
   "outputs": [],
   "source": [
    "def requestAllFoods():\n",
    "    pageNum = 1\n",
    "    foods = []\n",
    "    while True:\n",
    "        url = \"https://api.nal.usda.gov/fdc/v1/foods/list?api_key=drw0gUPJSS5U0u3XGRPtYX0jC3Bw4vXW3FaMw3en&pageSize=200&pageNumber=\" + str(pageNum)\n",
    "        req = requests.get(url)\n",
    "        if not req.ok:\n",
    "            break\n",
    "        foods = foods + req.json()\n",
    "        pageNum=pageNum + 1\n",
    "        \n",
    "    return foods\n",
    "\n"
   ]
  },
  {
   "cell_type": "code",
   "execution_count": 99,
   "id": "77737adb",
   "metadata": {},
   "outputs": [],
   "source": [
    "listOfFoods = requestAllFoods()"
   ]
  },
  {
   "cell_type": "code",
   "execution_count": 100,
   "id": "77ad577f",
   "metadata": {},
   "outputs": [],
   "source": [
    "#print(len(listOfFoods))"
   ]
  },
  {
   "cell_type": "code",
   "execution_count": 101,
   "id": "f2c4e923",
   "metadata": {},
   "outputs": [
    {
     "ename": "IndexError",
     "evalue": "list index out of range",
     "output_type": "error",
     "traceback": [
      "\u001b[1;31m---------------------------------------------------------------------------\u001b[0m",
      "\u001b[1;31mIndexError\u001b[0m                                Traceback (most recent call last)",
      "Input \u001b[1;32mIn [101]\u001b[0m, in \u001b[0;36m<cell line: 1>\u001b[1;34m()\u001b[0m\n\u001b[1;32m----> 1\u001b[0m \u001b[38;5;28mprint\u001b[39m(\u001b[43mlistOfFoods\u001b[49m\u001b[43m[\u001b[49m\u001b[38;5;241;43m6\u001b[39;49m\u001b[43m]\u001b[49m)\n",
      "\u001b[1;31mIndexError\u001b[0m: list index out of range"
     ]
    }
   ],
   "source": [
    "print(listOfFoods[6])"
   ]
  },
  {
   "cell_type": "code",
   "execution_count": 92,
   "id": "9398eeb7",
   "metadata": {},
   "outputs": [],
   "source": [
    "def getIron():\n",
    "    iron = []\n",
    "    for food in listOfFoods:\n",
    "        name = food['description']\n",
    "        for nutrient in food['foodNutrients']:\n",
    "            if nutrient['name'] == 'Iron, Fe':\n",
    "                amount = nutrient['amount']\n",
    "                temp = {'Name': name, 'Iron': amount}\n",
    "                iron.append(temp)\n",
    "    return iron"
   ]
  },
  {
   "cell_type": "code",
   "execution_count": 93,
   "id": "60852833",
   "metadata": {},
   "outputs": [],
   "source": [
    "data_df = getIron()"
   ]
  },
  {
   "cell_type": "code",
   "execution_count": 94,
   "id": "fc67ab94",
   "metadata": {},
   "outputs": [],
   "source": [
    "data_df = pd.DataFrame(data)"
   ]
  },
  {
   "cell_type": "code",
   "execution_count": 95,
   "id": "887eac7e",
   "metadata": {},
   "outputs": [
    {
     "data": {
      "text/html": [
       "<div>\n",
       "<style scoped>\n",
       "    .dataframe tbody tr th:only-of-type {\n",
       "        vertical-align: middle;\n",
       "    }\n",
       "\n",
       "    .dataframe tbody tr th {\n",
       "        vertical-align: top;\n",
       "    }\n",
       "\n",
       "    .dataframe thead th {\n",
       "        text-align: right;\n",
       "    }\n",
       "</style>\n",
       "<table border=\"1\" class=\"dataframe\">\n",
       "  <thead>\n",
       "    <tr style=\"text-align: right;\">\n",
       "      <th></th>\n",
       "      <th>fdcId</th>\n",
       "      <th>foodDescription</th>\n",
       "      <th>value</th>\n",
       "      <th>foodWeight</th>\n",
       "      <th>valueUnit</th>\n",
       "      <th>foodMeasure</th>\n",
       "      <th>measureValue</th>\n",
       "    </tr>\n",
       "  </thead>\n",
       "  <tbody>\n",
       "    <tr>\n",
       "      <th>321074</th>\n",
       "      <td>1063613</td>\n",
       "      <td>MINT CREME FILLED CHOCOLATE STICKS, MINT CREME</td>\n",
       "      <td>769000.0</td>\n",
       "      <td>39.0</td>\n",
       "      <td>g</td>\n",
       "      <td>100 g</td>\n",
       "      <td>300000.0</td>\n",
       "    </tr>\n",
       "    <tr>\n",
       "      <th>223005</th>\n",
       "      <td>1983528</td>\n",
       "      <td>GARLIC SALT</td>\n",
       "      <td>250000.0</td>\n",
       "      <td>1.2</td>\n",
       "      <td>g</td>\n",
       "      <td>100 g</td>\n",
       "      <td>3000.0</td>\n",
       "    </tr>\n",
       "    <tr>\n",
       "      <th>320235</th>\n",
       "      <td>1133950</td>\n",
       "      <td>TAHINI SESAME SEED PASTE</td>\n",
       "      <td>35700.0</td>\n",
       "      <td>28.0</td>\n",
       "      <td>g</td>\n",
       "      <td>100 g</td>\n",
       "      <td>10000.0</td>\n",
       "    </tr>\n",
       "    <tr>\n",
       "      <th>197298</th>\n",
       "      <td>1896769</td>\n",
       "      <td>TAMARI LITE 50% LESS SODIUM GLUTEN FREE SOY SA...</td>\n",
       "      <td>35300.0</td>\n",
       "      <td>17.0</td>\n",
       "      <td>g</td>\n",
       "      <td>100 g</td>\n",
       "      <td>6000.0</td>\n",
       "    </tr>\n",
       "    <tr>\n",
       "      <th>131467</th>\n",
       "      <td>2107654</td>\n",
       "      <td>DATU PUTI, SOY SAUCE</td>\n",
       "      <td>26700.0</td>\n",
       "      <td>15.0</td>\n",
       "      <td>ml</td>\n",
       "      <td>100 g</td>\n",
       "      <td>4000.0</td>\n",
       "    </tr>\n",
       "  </tbody>\n",
       "</table>\n",
       "</div>"
      ],
      "text/plain": [
       "          fdcId                                    foodDescription     value  \\\n",
       "321074  1063613     MINT CREME FILLED CHOCOLATE STICKS, MINT CREME  769000.0   \n",
       "223005  1983528                                        GARLIC SALT  250000.0   \n",
       "320235  1133950                           TAHINI SESAME SEED PASTE   35700.0   \n",
       "197298  1896769  TAMARI LITE 50% LESS SODIUM GLUTEN FREE SOY SA...   35300.0   \n",
       "131467  2107654                               DATU PUTI, SOY SAUCE   26700.0   \n",
       "\n",
       "        foodWeight valueUnit foodMeasure  measureValue  \n",
       "321074        39.0         g       100 g      300000.0  \n",
       "223005         1.2         g       100 g        3000.0  \n",
       "320235        28.0         g       100 g       10000.0  \n",
       "197298        17.0         g       100 g        6000.0  \n",
       "131467        15.0        ml       100 g        4000.0  "
      ]
     },
     "execution_count": 95,
     "metadata": {},
     "output_type": "execute_result"
    }
   ],
   "source": [
    "data_df.head()"
   ]
  },
  {
   "cell_type": "code",
   "execution_count": null,
   "id": "9853d4c9",
   "metadata": {},
   "outputs": [],
   "source": []
  },
  {
   "cell_type": "code",
   "execution_count": 96,
   "id": "13c7e70c",
   "metadata": {},
   "outputs": [
    {
     "ename": "NameError",
     "evalue": "name 'top' is not defined",
     "output_type": "error",
     "traceback": [
      "\u001b[1;31m---------------------------------------------------------------------------\u001b[0m",
      "\u001b[1;31mNameError\u001b[0m                                 Traceback (most recent call last)",
      "Input \u001b[1;32mIn [96]\u001b[0m, in \u001b[0;36m<cell line: 1>\u001b[1;34m()\u001b[0m\n\u001b[1;32m----> 1\u001b[0m top10 \u001b[38;5;241m=\u001b[39m \u001b[43mtop\u001b[49m[:\u001b[38;5;241m10\u001b[39m]\n",
      "\u001b[1;31mNameError\u001b[0m: name 'top' is not defined"
     ]
    }
   ],
   "source": [
    "top10 = top[:10]"
   ]
  },
  {
   "cell_type": "code",
   "execution_count": null,
   "id": "cb61d05c",
   "metadata": {},
   "outputs": [],
   "source": [
    "top10.head()"
   ]
  },
  {
   "cell_type": "code",
   "execution_count": null,
   "id": "63e72a84",
   "metadata": {},
   "outputs": [],
   "source": [
    "sns.barplot(data=top10, x=\"Iron\", y=\"Name\")"
   ]
  },
  {
   "cell_type": "code",
   "execution_count": null,
   "id": "edaaaa8b",
   "metadata": {},
   "outputs": [],
   "source": [
    "top = data_df.sort_values(by=\"Iron\", ascending=False)"
   ]
  },
  {
   "cell_type": "code",
   "execution_count": null,
   "id": "27582568",
   "metadata": {},
   "outputs": [],
   "source": [
    "def removeBabyFoods(data):\n",
    "    index = 0\n",
    "    for entry in df['Name']:\n",
    "        if \"Baby\" in entry:\n",
    "            df.drop(index, inplace = True)\n",
    "        index = inex + 13\n",
    "        "
   ]
  },
  {
   "cell_type": "code",
   "execution_count": null,
   "id": "025c2803",
   "metadata": {},
   "outputs": [],
   "source": [
    "removeBabyFood(data)"
   ]
  },
  {
   "cell_type": "code",
   "execution_count": null,
   "id": "87514fa5",
   "metadata": {},
   "outputs": [],
   "source": []
  },
  {
   "cell_type": "markdown",
   "id": "3b6fa863",
   "metadata": {},
   "source": [
    "."
   ]
  },
  {
   "cell_type": "markdown",
   "id": "3991782a",
   "metadata": {},
   "source": [
    "."
   ]
  },
  {
   "cell_type": "markdown",
   "id": "7f9e2744",
   "metadata": {},
   "source": [
    "."
   ]
  },
  {
   "cell_type": "code",
   "execution_count": null,
   "id": "64eb9d14",
   "metadata": {},
   "outputs": [],
   "source": [
    "import pandas as pd \n",
    "import seaborn as sb\n",
    "\n",
    "data = pd.read_csv('data_foods.csv')\n",
    "data.drop(data.columns[[1,2,3]],axis=\"columns\",inplace=True)\n",
    "data.sort_values(by=\"value\", inplace=True,ascending=False)\n",
    "len(data)\n"
   ]
  },
  {
   "cell_type": "code",
   "execution_count": null,
   "id": "6b65b7c1",
   "metadata": {},
   "outputs": [],
   "source": [
    "data = top10.head\n",
    "data\n",
    "#top10 = topTen[:10]"
   ]
  },
  {
   "cell_type": "code",
   "execution_count": null,
   "id": "10166b56",
   "metadata": {},
   "outputs": [],
   "source": []
  },
  {
   "cell_type": "code",
   "execution_count": null,
   "id": "5503f9e7",
   "metadata": {},
   "outputs": [],
   "source": [
    "sb.barplot(data = data, x = \"foodDescription\", y = \"value\")\n"
   ]
  },
  {
   "cell_type": "code",
   "execution_count": null,
   "id": "ab762d9b",
   "metadata": {},
   "outputs": [],
   "source": [
    "plt.show()"
   ]
  },
  {
   "cell_type": "code",
   "execution_count": null,
   "id": "0910e678",
   "metadata": {},
   "outputs": [],
   "source": [
    "data = data[ data[ “value” ].str.contains( “someString” )==False ]"
   ]
  },
  {
   "cell_type": "markdown",
   "id": "e597e270",
   "metadata": {},
   "source": [
    "'\n",
    "\n",
    "\n",
    "\n",
    "'"
   ]
  },
  {
   "cell_type": "code",
   "execution_count": null,
   "id": "26891fd0",
   "metadata": {},
   "outputs": [],
   "source": [
    "print(df.Name)"
   ]
  },
  {
   "cell_type": "code",
   "execution_count": null,
   "id": "056da533",
   "metadata": {},
   "outputs": [],
   "source": [
    "#This will show you the first dictionary\n",
    "#To c\n",
    "responce[0]"
   ]
  },
  {
   "cell_type": "code",
   "execution_count": null,
   "id": "1c989682",
   "metadata": {},
   "outputs": [],
   "source": [
    "#List the length of \n",
    "len(responce)"
   ]
  },
  {
   "cell_type": "code",
   "execution_count": null,
   "id": "d8afeacb",
   "metadata": {},
   "outputs": [],
   "source": [
    "#respond.ok"
   ]
  },
  {
   "cell_type": "markdown",
   "id": "dcf820b6",
   "metadata": {},
   "source": [
    "drw0gUPJSS5U0u3XGRPtYX0jC3Bw4vXW3FaMw3en\n"
   ]
  },
  {
   "cell_type": "code",
   "execution_count": null,
   "id": "e0cc48cd",
   "metadata": {},
   "outputs": [],
   "source": []
  },
  {
   "cell_type": "code",
   "execution_count": null,
   "id": "1ef568f7",
   "metadata": {},
   "outputs": [],
   "source": []
  }
 ],
 "metadata": {
  "kernelspec": {
   "display_name": "Python 3 (ipykernel)",
   "language": "python",
   "name": "python3"
  },
  "language_info": {
   "codemirror_mode": {
    "name": "ipython",
    "version": 3
   },
   "file_extension": ".py",
   "mimetype": "text/x-python",
   "name": "python",
   "nbconvert_exporter": "python",
   "pygments_lexer": "ipython3",
   "version": "3.9.12"
  }
 },
 "nbformat": 4,
 "nbformat_minor": 5
}
