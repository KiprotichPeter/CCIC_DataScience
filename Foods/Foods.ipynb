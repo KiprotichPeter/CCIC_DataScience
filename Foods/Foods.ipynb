{
 "cells": [
  {
   "cell_type": "code",
   "execution_count": 43,
   "id": "17a79d9a",
   "metadata": {},
   "outputs": [],
   "source": [
    "import requests\n",
    "import pandas as pd\n",
    "import seaborn as sns"
   ]
  },
  {
   "cell_type": "code",
   "execution_count": 44,
   "id": "6ad0feae",
   "metadata": {},
   "outputs": [],
   "source": [
    "#Get the list of all foods\n",
    "\n",
    "def requestAllFood():\n",
    "    pageNum = 1\n",
    "    foods = []\n",
    "    while True:\n",
    "        url = 'https://api.nal.usda.gov/fdc/v1/foods/list?&api_key=DLKMiNZ1JdqunkajetLlxzCgEVaE1P3FPvKwzz8f&pageSize=200&pageNumber=' + str(pageNum)\n",
    "        req = requests.get(url)\n",
    "        if not req.ok:\n",
    "            break\n",
    "        foods = foods + req.json()\n",
    "        pageNum = pageNum + 1\n",
    "    \n",
    "    return foods"
   ]
  },
  {
   "cell_type": "code",
   "execution_count": 45,
   "id": "0b0170f0",
   "metadata": {},
   "outputs": [],
   "source": [
    "listOfFoods = requestAllFood()"
   ]
  },
  {
   "cell_type": "code",
   "execution_count": 46,
   "id": "51564d16",
   "metadata": {},
   "outputs": [
    {
     "name": "stdout",
     "output_type": "stream",
     "text": [
      "10000\n",
      "{'fdcId': 2353623, 'description': 'A Low-Starch and High-Fiber Diet Intervention Impacts the Microbial Community of Raw Bovine Milk', 'dataType': 'Experimental', 'publicationDate': '2022-10-28', 'foodNutrients': []}\n"
     ]
    }
   ],
   "source": [
    "print(len(listOfFoods))\n",
    "print(listOfFoods[0])"
   ]
  },
  {
   "cell_type": "code",
   "execution_count": 47,
   "id": "03230c61",
   "metadata": {},
   "outputs": [],
   "source": [
    "#Make a dictionary with only name and iron as entries\n",
    "\n",
    "def getIron():\n",
    "    iron = []\n",
    "    for food in listOfFoods:\n",
    "        name = food['description']\n",
    "        for nutrient in food['foodNutrients']:\n",
    "            if nutrient['name'] == 'Iron, Fe':\n",
    "                amount = nutrient['amount']\n",
    "                temp = {'Name': name, 'Iron': amount}\n",
    "                iron.append(temp)\n",
    "    return iron\n",
    "\n",
    "\n",
    "data = getIron()"
   ]
  },
  {
   "cell_type": "code",
   "execution_count": 48,
   "id": "89992087",
   "metadata": {},
   "outputs": [
    {
     "data": {
      "text/html": [
       "<div>\n",
       "<style scoped>\n",
       "    .dataframe tbody tr th:only-of-type {\n",
       "        vertical-align: middle;\n",
       "    }\n",
       "\n",
       "    .dataframe tbody tr th {\n",
       "        vertical-align: top;\n",
       "    }\n",
       "\n",
       "    .dataframe thead th {\n",
       "        text-align: right;\n",
       "    }\n",
       "</style>\n",
       "<table border=\"1\" class=\"dataframe\">\n",
       "  <thead>\n",
       "    <tr style=\"text-align: right;\">\n",
       "      <th></th>\n",
       "      <th>Name</th>\n",
       "      <th>Iron</th>\n",
       "    </tr>\n",
       "  </thead>\n",
       "  <tbody>\n",
       "    <tr>\n",
       "      <th>0</th>\n",
       "      <td>Abalone</td>\n",
       "      <td>3.97</td>\n",
       "    </tr>\n",
       "    <tr>\n",
       "      <th>1</th>\n",
       "      <td>Abiyuch, raw</td>\n",
       "      <td>1.61</td>\n",
       "    </tr>\n",
       "    <tr>\n",
       "      <th>2</th>\n",
       "      <td>Acerola juice, raw</td>\n",
       "      <td>0.50</td>\n",
       "    </tr>\n",
       "    <tr>\n",
       "      <th>3</th>\n",
       "      <td>Acerola, (west indian cherry), raw</td>\n",
       "      <td>0.20</td>\n",
       "    </tr>\n",
       "    <tr>\n",
       "      <th>4</th>\n",
       "      <td>Acorn stew (Apache)</td>\n",
       "      <td>1.00</td>\n",
       "    </tr>\n",
       "    <tr>\n",
       "      <th>5</th>\n",
       "      <td>Adobo, with noodles</td>\n",
       "      <td>0.99</td>\n",
       "    </tr>\n",
       "    <tr>\n",
       "      <th>6</th>\n",
       "      <td>Adobo, with rice</td>\n",
       "      <td>1.34</td>\n",
       "    </tr>\n",
       "    <tr>\n",
       "      <th>7</th>\n",
       "      <td>Agave liquid sweetener</td>\n",
       "      <td>0.09</td>\n",
       "    </tr>\n",
       "    <tr>\n",
       "      <th>8</th>\n",
       "      <td>Agave, cooked (Southwest)</td>\n",
       "      <td>3.55</td>\n",
       "    </tr>\n",
       "    <tr>\n",
       "      <th>9</th>\n",
       "      <td>Agave, dried (Southwest)</td>\n",
       "      <td>3.64</td>\n",
       "    </tr>\n",
       "  </tbody>\n",
       "</table>\n",
       "</div>"
      ],
      "text/plain": [
       "                                 Name  Iron\n",
       "0                             Abalone  3.97\n",
       "1                        Abiyuch, raw  1.61\n",
       "2                  Acerola juice, raw  0.50\n",
       "3  Acerola, (west indian cherry), raw  0.20\n",
       "4                 Acorn stew (Apache)  1.00\n",
       "5                 Adobo, with noodles  0.99\n",
       "6                    Adobo, with rice  1.34\n",
       "7              Agave liquid sweetener  0.09\n",
       "8           Agave, cooked (Southwest)  3.55\n",
       "9            Agave, dried (Southwest)  3.64"
      ]
     },
     "execution_count": 48,
     "metadata": {},
     "output_type": "execute_result"
    }
   ],
   "source": [
    "# Make the iron dictionary into a DataFrame \n",
    "\n",
    "df = pd.DataFrame(data)\n",
    "df.head(10)"
   ]
  },
  {
   "cell_type": "code",
   "execution_count": 49,
   "id": "0af52f31",
   "metadata": {},
   "outputs": [
    {
     "data": {
      "text/html": [
       "<div>\n",
       "<style scoped>\n",
       "    .dataframe tbody tr th:only-of-type {\n",
       "        vertical-align: middle;\n",
       "    }\n",
       "\n",
       "    .dataframe tbody tr th {\n",
       "        vertical-align: top;\n",
       "    }\n",
       "\n",
       "    .dataframe thead th {\n",
       "        text-align: right;\n",
       "    }\n",
       "</style>\n",
       "<table border=\"1\" class=\"dataframe\">\n",
       "  <thead>\n",
       "    <tr style=\"text-align: right;\">\n",
       "      <th></th>\n",
       "      <th>Name</th>\n",
       "      <th>Iron</th>\n",
       "    </tr>\n",
       "  </thead>\n",
       "  <tbody>\n",
       "    <tr>\n",
       "      <th>3367</th>\n",
       "      <td>Cereals ready-to-eat, RALSTON Enriched Wheat B...</td>\n",
       "      <td>67.7</td>\n",
       "    </tr>\n",
       "    <tr>\n",
       "      <th>370</th>\n",
       "      <td>Babyfood, cereal, oatmeal, with honey, dry</td>\n",
       "      <td>67.2</td>\n",
       "    </tr>\n",
       "    <tr>\n",
       "      <th>363</th>\n",
       "      <td>Babyfood, cereal, oatmeal, dry fortified</td>\n",
       "      <td>64.1</td>\n",
       "    </tr>\n",
       "    <tr>\n",
       "      <th>276</th>\n",
       "      <td>Baby Toddler cereal, oatmeal, dry</td>\n",
       "      <td>64.1</td>\n",
       "    </tr>\n",
       "    <tr>\n",
       "      <th>364</th>\n",
       "      <td>Babyfood, cereal, Oatmeal, dry, GERBER, SINGLE...</td>\n",
       "      <td>64.0</td>\n",
       "    </tr>\n",
       "    <tr>\n",
       "      <th>274</th>\n",
       "      <td>Baby Toddler cereal, oatmeal with fruit, dry</td>\n",
       "      <td>61.0</td>\n",
       "    </tr>\n",
       "    <tr>\n",
       "      <th>8976</th>\n",
       "      <td>Parsley, freeze-dried</td>\n",
       "      <td>53.9</td>\n",
       "    </tr>\n",
       "    <tr>\n",
       "      <th>373</th>\n",
       "      <td>Babyfood, cereal, rice, dry fortified</td>\n",
       "      <td>53.0</td>\n",
       "    </tr>\n",
       "    <tr>\n",
       "      <th>280</th>\n",
       "      <td>Baby Toddler cereal, rice, dry</td>\n",
       "      <td>53.0</td>\n",
       "    </tr>\n",
       "    <tr>\n",
       "      <th>278</th>\n",
       "      <td>Baby Toddler cereal, rice with fruit, dry</td>\n",
       "      <td>50.4</td>\n",
       "    </tr>\n",
       "  </tbody>\n",
       "</table>\n",
       "</div>"
      ],
      "text/plain": [
       "                                                   Name  Iron\n",
       "3367  Cereals ready-to-eat, RALSTON Enriched Wheat B...  67.7\n",
       "370          Babyfood, cereal, oatmeal, with honey, dry  67.2\n",
       "363            Babyfood, cereal, oatmeal, dry fortified  64.1\n",
       "276                   Baby Toddler cereal, oatmeal, dry  64.1\n",
       "364   Babyfood, cereal, Oatmeal, dry, GERBER, SINGLE...  64.0\n",
       "274        Baby Toddler cereal, oatmeal with fruit, dry  61.0\n",
       "8976                              Parsley, freeze-dried  53.9\n",
       "373               Babyfood, cereal, rice, dry fortified  53.0\n",
       "280                      Baby Toddler cereal, rice, dry  53.0\n",
       "278           Baby Toddler cereal, rice with fruit, dry  50.4"
      ]
     },
     "execution_count": 49,
     "metadata": {},
     "output_type": "execute_result"
    }
   ],
   "source": [
    "#Sort the Data by the greatest amount of iron a food has.\n",
    "df = df.sort_values(by=\"Iron\", ascending=False)\n",
    "df.head(10)\n"
   ]
  },
  {
   "cell_type": "code",
   "execution_count": 50,
   "id": "8bda5146",
   "metadata": {},
   "outputs": [
    {
     "data": {
      "text/html": [
       "<div>\n",
       "<style scoped>\n",
       "    .dataframe tbody tr th:only-of-type {\n",
       "        vertical-align: middle;\n",
       "    }\n",
       "\n",
       "    .dataframe tbody tr th {\n",
       "        vertical-align: top;\n",
       "    }\n",
       "\n",
       "    .dataframe thead th {\n",
       "        text-align: right;\n",
       "    }\n",
       "</style>\n",
       "<table border=\"1\" class=\"dataframe\">\n",
       "  <thead>\n",
       "    <tr style=\"text-align: right;\">\n",
       "      <th></th>\n",
       "      <th>Name</th>\n",
       "      <th>Iron</th>\n",
       "    </tr>\n",
       "  </thead>\n",
       "  <tbody>\n",
       "    <tr>\n",
       "      <th>3367</th>\n",
       "      <td>Cereals ready-to-eat, RALSTON Enriched Wheat B...</td>\n",
       "      <td>67.7</td>\n",
       "    </tr>\n",
       "    <tr>\n",
       "      <th>370</th>\n",
       "      <td>Babyfood, cereal, oatmeal, with honey, dry</td>\n",
       "      <td>67.2</td>\n",
       "    </tr>\n",
       "    <tr>\n",
       "      <th>363</th>\n",
       "      <td>Babyfood, cereal, oatmeal, dry fortified</td>\n",
       "      <td>64.1</td>\n",
       "    </tr>\n",
       "    <tr>\n",
       "      <th>276</th>\n",
       "      <td>Baby Toddler cereal, oatmeal, dry</td>\n",
       "      <td>64.1</td>\n",
       "    </tr>\n",
       "    <tr>\n",
       "      <th>364</th>\n",
       "      <td>Babyfood, cereal, Oatmeal, dry, GERBER, SINGLE...</td>\n",
       "      <td>64.0</td>\n",
       "    </tr>\n",
       "    <tr>\n",
       "      <th>274</th>\n",
       "      <td>Baby Toddler cereal, oatmeal with fruit, dry</td>\n",
       "      <td>61.0</td>\n",
       "    </tr>\n",
       "    <tr>\n",
       "      <th>8976</th>\n",
       "      <td>Parsley, freeze-dried</td>\n",
       "      <td>53.9</td>\n",
       "    </tr>\n",
       "    <tr>\n",
       "      <th>373</th>\n",
       "      <td>Babyfood, cereal, rice, dry fortified</td>\n",
       "      <td>53.0</td>\n",
       "    </tr>\n",
       "    <tr>\n",
       "      <th>280</th>\n",
       "      <td>Baby Toddler cereal, rice, dry</td>\n",
       "      <td>53.0</td>\n",
       "    </tr>\n",
       "    <tr>\n",
       "      <th>278</th>\n",
       "      <td>Baby Toddler cereal, rice with fruit, dry</td>\n",
       "      <td>50.4</td>\n",
       "    </tr>\n",
       "  </tbody>\n",
       "</table>\n",
       "</div>"
      ],
      "text/plain": [
       "                                                   Name  Iron\n",
       "3367  Cereals ready-to-eat, RALSTON Enriched Wheat B...  67.7\n",
       "370          Babyfood, cereal, oatmeal, with honey, dry  67.2\n",
       "363            Babyfood, cereal, oatmeal, dry fortified  64.1\n",
       "276                   Baby Toddler cereal, oatmeal, dry  64.1\n",
       "364   Babyfood, cereal, Oatmeal, dry, GERBER, SINGLE...  64.0\n",
       "274        Baby Toddler cereal, oatmeal with fruit, dry  61.0\n",
       "8976                              Parsley, freeze-dried  53.9\n",
       "373               Babyfood, cereal, rice, dry fortified  53.0\n",
       "280                      Baby Toddler cereal, rice, dry  53.0\n",
       "278           Baby Toddler cereal, rice with fruit, dry  50.4"
      ]
     },
     "execution_count": 50,
     "metadata": {},
     "output_type": "execute_result"
    }
   ],
   "source": [
    "#Remove all entries/ foods that are baby foods\n",
    "df = df[df[\"Name\"].str.contains(\"baby\") == False]\n",
    "df = df[df[\"Name\"].str.contains(\"baby\") == False] \n",
    "\n",
    "Top_Ten = df.head(10)\n",
    "Top_Ten"
   ]
  },
  {
   "cell_type": "code",
   "execution_count": 51,
   "id": "43afaa03",
   "metadata": {},
   "outputs": [
    {
     "data": {
      "text/plain": [
       "<AxesSubplot: xlabel='Iron', ylabel='Name'>"
      ]
     },
     "execution_count": 51,
     "metadata": {},
     "output_type": "execute_result"
    },
    {
     "data": {
      "image/png": "[encoded data removed]",
      "text/plain": [
       "<Figure size 640x480 with 1 Axes>"
      ]
     },
     "metadata": {},
     "output_type": "display_data"
    }
   ],
   "source": [
    "#PLot/ graph the data \n",
    "sns.barplot(x=Top_Ten[\"Iron\"], y=Top_Ten[\"Name\"])"
   ]
  },
  {
   "cell_type": "code",
   "execution_count": 52,
   "id": "9868e296",
   "metadata": {},
   "outputs": [
    {
     "data": {
      "text/plain": [
       "<AxesSubplot: ylabel='Count'>"
      ]
     },
     "execution_count": 52,
     "metadata": {},
     "output_type": "execute_result"
    },
    {
     "data": {
      "image/png": "[encoded data removed]",
      "text/plain": [
       "<Figure size 640x480 with 1 Axes>"
      ]
     },
     "metadata": {},
     "output_type": "display_data"
    }
   ],
   "source": [
    "sns.histplot(data=df)"
   ]
  }
 ],
 "metadata": {
  "kernelspec": {
   "display_name": "Python 3.10.6 64-bit",
   "language": "python",
   "name": "python3"
  },
  "language_info": {
   "codemirror_mode": {
    "name": "ipython",
    "version": 3
   },
   "file_extension": ".py",
   "mimetype": "text/x-python",
   "name": "python",
   "nbconvert_exporter": "python",
   "pygments_lexer": "ipython3",
   "version": "3.10.6"
  },
  "vscode": {
   "interpreter": {
    "hash": "916dbcbb3f70747c44a77c7bcd40155683ae19c65e1c03b4aa3499c5328201f1"
   }
  }
 },
 "nbformat": 4,
 "nbformat_minor": 5
}
