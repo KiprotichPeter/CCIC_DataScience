{
 "cells": [
  {
   "cell_type": "code",
   "execution_count": null,
   "id": "0eead6a1",
   "metadata": {},
   "outputs": [],
   "source": [
    "Data_info = [[\"Days\"],\n",
    "            [\"Students with uniform\", \"Students with out uniform\", \"Total number of students\"],\n",
    "            [\"Thursday\", \"13\", \"3\", \"16\"],\n",
    "            [\"Monday\", \"15\", \"2\", \"17\"]\n",
    "            ]\n",
    "percent = 100\n",
    "print(\"Day one\")\n",
    "thursday_with=(Data_info[2][1])\n",
    "thursday_without = (Data_info[2][2])\n",
    "total_students_1 = (Data_info[2][3])\n",
    "percent_calc_1 = (round(int(thursday_with) * int(percent) / int(total_students_1)))\n",
    "\n",
    "\n",
    "Monday_with=(Data_info[3][1])\n",
    "Monday_without = (Data_info[3][2])\n",
    "total_students_2 = (Data_info[3][3])\n",
    "percent_calc_2 = (round(int(Monday_with) * int(percent) / int(total_students_2)))\n",
    "\n",
    "print(\" Student with uniform were:\", thursday_with )\n",
    "print(\" Student without the uniform were:\", thursday_without)\n",
    "print(\" Total number of students were:\", total_students_1)\n",
    "print(\"\", percent_calc_1,\"percent of students wore their uniform on Thursday\")\n",
    "\n",
    "print(\"Day two\")\n",
    "print(\" Student with uniform were:\", Monday_with )\n",
    "print(\" Student without the uniform were:\", Monday_without)\n",
    "print(\" Total number of students were:\", total_students_2)\n",
    "print(\"\", percent_calc_2,\"percent of students wore their uniform on Monday\")"
   ]
  }
 ],
 "metadata": {
  "kernelspec": {
   "display_name": "Python 3 (ipykernel)",
   "language": "python",
   "name": "python3"
  },
  "language_info": {
   "codemirror_mode": {
    "name": "ipython",
    "version": 3
   },
   "file_extension": ".py",
   "mimetype": "text/x-python",
   "name": "python",
   "nbconvert_exporter": "python",
   "pygments_lexer": "ipython3",
   "version": "3.9.12"
  }
 },
 "nbformat": 4,
 "nbformat_minor": 5
}
