{
 "cells": [
  {
   "cell_type": "code",
   "execution_count": null,
   "id": "ac82841a",
   "metadata": {},
   "outputs": [],
   "source": [
    "list1 = [3,2,5]\n",
    "list2 = [5,3,7,9,2]\n",
    "for i in list1:\n",
    "    if i in list2:\n",
    "        print(\"True\")\n",
    "    else:\n",
    "        print(\"False\")"
   ]
  },
  {
   "cell_type": "code",
   "execution_count": null,
   "id": "35e9eb69",
   "metadata": {},
   "outputs": [],
   "source": [
    "list1 = [3,2,5,4]\n",
    "list2 = [5,3,7,9,2]\n",
    "in_list = True\n",
    "for i in list1:\n",
    "    if i in list2:\n",
    "        in_list = True\n",
    "    else:\n",
    "        in_list = False\n",
    "print(in_list)"
   ]
  },
  {
   "cell_type": "code",
   "execution_count": null,
   "id": "b6b1cfa4",
   "metadata": {},
   "outputs": [],
   "source": [
    "num = int(input(\"Enter a number: \"))\n",
    "length = int(input(\"Enter a length: \"))\n",
    "start = 1\n",
    "\n",
    "numbers = [] #Make an list without any values.\n",
    "\n",
    "while start <= length: #This will be True till start in greater than the \"length value\".\n",
    "    value = num * start #This will mutiply the num with the start value.\n",
    "    start = start + 1 #Then you \"start\" will increase to the every time till the length value.\n",
    "    numbers.append(value) #Append will add a value to the end of a list.\n",
    "print(numbers) #This will print the values."
   ]
  },
  {
   "cell_type": "code",
   "execution_count": null,
   "id": "d34a4b26",
   "metadata": {},
   "outputs": [],
   "source": [
    "powers = [[1,2,3],\n",
    "        [4,5,6]]\n",
    "idx = 0\n",
    "for row in powers:\n",
    "    for num in row:\n",
    "        row[idx] = row[idx] ** row[idx]\n",
    "    idx = idx + 1\n",
    "print(powers[1][2])"
   ]
  },
  {
   "cell_type": "code",
   "execution_count": null,
   "id": "7af11418",
   "metadata": {},
   "outputs": [],
   "source": [
    "MORSE_CODE_DICT = {\n",
    "  'A': '.-', 'B': '-...', 'C': '-.-.', 'D': '-..', 'E': '.', 'F': '..-.',\n",
    "  'G': '--.', 'H': '....', 'I': '..', 'J': '.---', 'K': '-.-', 'L': '.-..',\n",
    "  'M': '--', 'N': '-.', 'O': '---', 'P': '.--.', 'Q': '--.-', 'R': '.-.',\n",
    "  'S': '...', 'T': '-', 'U': '..-', 'V': '...-', 'W': '.--', 'X': '-..-',\n",
    "  'Y': '-.--', 'Z': '--..', ' ': ' ', '0': '-----',\n",
    "  '1': '.----', '2': '..---', '3': '...--', '4': '....-', '5': '.....',\n",
    "  '6': '-....', '7': '--...', '8': '---..', '9': '----.',\n",
    "  '&': '.-...', \"'\": '.----.', '@': '.--.-.', ')': '-.--.-', '(': '-.--.',\n",
    "  ':': '---...', ',': '--..--', '=': '-...-', '!': '-.-.--', '.': '.-.-.-',\n",
    "  '-': '-....-', '+': '.-.-.', '\"': '.-..-.', '?': '..--..', '/': '-..-.'\n",
    "}\n",
    "\n",
    "\n",
    "word = input(\"Enter a word: \") #Input a string\n",
    "word = word.upper() #This will change the string in an uppercase\n",
    "for i in word: #For every letter in word.\n",
    "    print(MORSE_CODE_DICT[i], end=\"\")"
   ]
  },
  {
   "cell_type": "code",
   "execution_count": null,
   "id": "087dbd9e",
   "metadata": {},
   "outputs": [],
   "source": [
    "front_stag = [  [1,2,3,2,1],\n",
    "                [2,4,4,3,2,2],\n",
    "                [5,5,5,5,4,4],\n",
    "                [6,6,7,6,5,5]]\n",
    "value = True\n",
    "for i in range(len(front_stag[0])):\n",
    "    for j in range(len(front_stag)):\n",
    "        if j < len(front_stag) -1 and front_stag[j][i] >= front_stag[j+1][i]:\n",
    "            value = False\n",
    "            break\n",
    "print(value)"
   ]
  },
  {
   "cell_type": "code",
   "execution_count": null,
   "id": "83dff68c",
   "metadata": {},
   "outputs": [],
   "source": []
  }
 ],
 "metadata": {
  "kernelspec": {
   "display_name": "Python 3.10.7 64-bit (microsoft store)",
   "language": "python",
   "name": "python3"
  },
  "language_info": {
   "codemirror_mode": {
    "name": "ipython",
    "version": 3
   },
   "file_extension": ".py",
   "mimetype": "text/x-python",
   "name": "python",
   "nbconvert_exporter": "python",
   "pygments_lexer": "ipython3",
   "version": "3.10.7"
  },
  "vscode": {
   "interpreter": {
    "hash": "791f65838cec2b63fb0c2222cec7d9c0a0a8e93fdff3fc6e4f51e9154f4ce418"
   }
  }
 },
 "nbformat": 4,
 "nbformat_minor": 5
}
