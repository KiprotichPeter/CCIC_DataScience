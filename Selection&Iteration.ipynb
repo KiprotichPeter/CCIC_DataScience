{
 "cells": [
  {
   "cell_type": "code",
   "execution_count": 7,
   "id": "ac82841a",
   "metadata": {},
   "outputs": [
    {
     "name": "stdout",
     "output_type": "stream",
     "text": [
      "True\n",
      "True\n",
      "True\n"
     ]
    }
   ],
   "source": [
    "list1 = [3,2,5]\n",
    "list2 = [5,3,7,9,2]\n",
    "for i in list1:\n",
    "    if i in list2:\n",
    "        print(\"True\")\n",
    "    else:\n",
    "        print(\"False\")"
   ]
  },
  {
   "cell_type": "code",
   "execution_count": null,
   "id": "35e9eb69",
   "metadata": {},
   "outputs": [],
   "source": [
    "list1 = [3,2,5,4]\n",
    "list2 = [5,3,7,9,2]\n",
    "in_list = True\n",
    "for i in list1:\n",
    "    if i in list2:\n",
    "        in_list = True\n",
    "    else:\n",
    "        in_list = False\n",
    "print(in_list)"
   ]
  },
  {
   "cell_type": "code",
   "execution_count": 8,
   "id": "b6b1cfa4",
   "metadata": {},
   "outputs": [
    {
     "name": "stdout",
     "output_type": "stream",
     "text": [
      "Enter a number: 2\n",
      "Enter a length: 2\n",
      "[2]\n",
      "[2, 4]\n"
     ]
    }
   ],
   "source": [
    "num = int(input(\"Enter a number: \"))\n",
    "length = int(input(\"Enter a length: \"))\n",
    "start = 1\n",
    "factors = []\n",
    "\n",
    "while start <= length:\n",
    "    value = num * start\n",
    "    start = start + 1\n",
    "    factors.append(value)\n",
    "    #print(\"Your value is\", value)\n",
    "    print(factors)"
   ]
  },
  {
   "cell_type": "code",
   "execution_count": null,
   "id": "d34a4b26",
   "metadata": {},
   "outputs": [],
   "source": [
    "powers = [[1,2,3],\n",
    "        [4,5,6]]\n",
    "idx = 0\n",
    "for row in powers:\n",
    "    for num in row:\n",
    "        row[idx] = row[idx] ** row[idx]\n",
    "    idx = idx + 1\n",
    "    print(powers[1][2])"
   ]
  },
  {
   "cell_type": "code",
   "execution_count": null,
   "id": "b2c88276",
   "metadata": {},
   "outputs": [],
   "source": []
  }
 ],
 "metadata": {
  "kernelspec": {
   "display_name": "Python 3 (ipykernel)",
   "language": "python",
   "name": "python3"
  },
  "language_info": {
   "codemirror_mode": {
    "name": "ipython",
    "version": 3
   },
   "file_extension": ".py",
   "mimetype": "text/x-python",
   "name": "python",
   "nbconvert_exporter": "python",
   "pygments_lexer": "ipython3",
   "version": "3.9.12"
  }
 },
 "nbformat": 4,
 "nbformat_minor": 5
}
