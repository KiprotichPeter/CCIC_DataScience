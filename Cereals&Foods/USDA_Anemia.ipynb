{
 "cells": [
  {
   "cell_type": "code",
   "execution_count": 42,
   "id": "17a79d9a",
   "metadata": {},
   "outputs": [],
   "source": [
    "import requests\n",
    "import pandas as pd\n",
    "import seaborn as sns"
   ]
  },
  {
   "cell_type": "code",
   "execution_count": 43,
   "id": "b2987b91",
   "metadata": {},
   "outputs": [],
   "source": [
    "#url = 'https://api.nal.usda.gov/fdc/v1/foods/list?&pageSize=194&pageNumber=51&api_key=DLKMiNZ1JdqunkajetLlxzCgEVaE1P3FPvKwzz8f'"
   ]
  },
  {
   "cell_type": "code",
   "execution_count": 44,
   "id": "8317e4df",
   "metadata": {},
   "outputs": [],
   "source": [
    "# response = requests.get(url)\n",
    "# response = response.json()\n",
    "# response"
   ]
  },
  {
   "cell_type": "code",
   "execution_count": 45,
   "id": "6ad0feae",
   "metadata": {},
   "outputs": [],
   "source": [
    "def requestAllFood():\n",
    "    pageNum = 1\n",
    "    foods = []\n",
    "    while True:\n",
    "        url = 'https://api.nal.usda.gov/fdc/v1/foods/list?&api_key=DLKMiNZ1JdqunkajetLlxzCgEVaE1P3FPvKwzz8f&pageSize=200&pageNumber=' + str(pageNum)\n",
    "        req = requests.get(url)\n",
    "        if not req.ok:\n",
    "            break\n",
    "        foods = foods + req.json()\n",
    "        pageNum = pageNum + 1\n",
    "    \n",
    "    return foods"
   ]
  },
  {
   "cell_type": "code",
   "execution_count": 46,
   "id": "0b0170f0",
   "metadata": {},
   "outputs": [],
   "source": [
    "listOfFoods = requestAllFood()"
   ]
  },
  {
   "cell_type": "code",
   "execution_count": 47,
   "id": "4e56e136",
   "metadata": {},
   "outputs": [
    {
     "ename": "IndexError",
     "evalue": "list index out of range",
     "output_type": "error",
     "traceback": [
      "\u001b[1;31m---------------------------------------------------------------------------\u001b[0m",
      "\u001b[1;31mIndexError\u001b[0m                                Traceback (most recent call last)",
      "Input \u001b[1;32mIn [47]\u001b[0m, in \u001b[0;36m<cell line: 1>\u001b[1;34m()\u001b[0m\n\u001b[1;32m----> 1\u001b[0m \u001b[38;5;28mprint\u001b[39m(\u001b[43mlistOfFoods\u001b[49m\u001b[43m[\u001b[49m\u001b[38;5;241;43m6\u001b[39;49m\u001b[43m]\u001b[49m)\n",
      "\u001b[1;31mIndexError\u001b[0m: list index out of range"
     ]
    }
   ],
   "source": [
    "print(listOfFoods[6])"
   ]
  },
  {
   "cell_type": "code",
   "execution_count": null,
   "id": "03230c61",
   "metadata": {},
   "outputs": [],
   "source": [
    "def getIron():\n",
    "    iron = []\n",
    "    for food in listOfFoods:\n",
    "        name = food['description']\n",
    "        for nutrient in food['foodNutrients']:\n",
    "            if nutrient['name'] == 'Iron, Fe':\n",
    "                amount = nutrient['amount']\n",
    "                temp = {'Name': name, 'Iron': amount}\n",
    "                iron.append(temp)\n",
    "    return iron"
   ]
  },
  {
   "cell_type": "code",
   "execution_count": null,
   "id": "d2a9e4c2",
   "metadata": {},
   "outputs": [],
   "source": [
    "data = getIron()\n"
   ]
  },
  {
   "cell_type": "code",
   "execution_count": null,
   "id": "89992087",
   "metadata": {},
   "outputs": [],
   "source": [
    "df = pd.DataFrame(data)"
   ]
  },
  {
   "cell_type": "code",
   "execution_count": null,
   "id": "0c0061cc",
   "metadata": {},
   "outputs": [],
   "source": [
    "df.head()"
   ]
  },
  {
   "cell_type": "code",
   "execution_count": null,
   "id": "192ad243",
   "metadata": {},
   "outputs": [],
   "source": [
    "top = df.sort_values(by=\"Iron\", ascending=False)"
   ]
  },
  {
   "cell_type": "code",
   "execution_count": null,
   "id": "b799bc5b",
   "metadata": {},
   "outputs": [],
   "source": []
  },
  {
   "cell_type": "code",
   "execution_count": null,
   "id": "3866d581",
   "metadata": {},
   "outputs": [],
   "source": [
    "top10 = top[:10]"
   ]
  },
  {
   "cell_type": "code",
   "execution_count": null,
   "id": "84ec9cbf",
   "metadata": {},
   "outputs": [],
   "source": [
    "top10.head()"
   ]
  },
  {
   "cell_type": "code",
   "execution_count": null,
   "id": "04743576",
   "metadata": {},
   "outputs": [],
   "source": [
    "sns.barplot(data=top10, x=\"Iron\", y=\"Name\")"
   ]
  },
  {
   "cell_type": "code",
   "execution_count": null,
   "id": "f49a469c",
   "metadata": {},
   "outputs": [],
   "source": [
    "def removeBabyFoods(data):\n",
    "    index = 0\n",
    "    for entry in df['Name']:\n",
    "        if \"Baby\" in entry:\n",
    "            df.drop(index, inplace = True)\n",
    "        index = inex + 13"
   ]
  },
  {
   "cell_type": "code",
   "execution_count": null,
   "id": "eec8756c",
   "metadata": {},
   "outputs": [],
   "source": [
    "removeBabyFood(data)"
   ]
  },
  {
   "cell_type": "code",
   "execution_count": null,
   "id": "0d832953",
   "metadata": {},
   "outputs": [],
   "source": [
    "sns.histplot(df[])\n"
   ]
  },
  {
   "cell_type": "code",
   "execution_count": null,
   "id": "6b170862",
   "metadata": {},
   "outputs": [],
   "source": [
    "df[\"Iron\"].quantile(0.1)"
   ]
  },
  {
   "cell_type": "code",
   "execution_count": null,
   "id": "b873a2a1",
   "metadata": {},
   "outputs": [],
   "source": []
  }
 ],
 "metadata": {
  "kernelspec": {
   "display_name": "Python 3 (ipykernel)",
   "language": "python",
   "name": "python3"
  },
  "language_info": {
   "codemirror_mode": {
    "name": "ipython",
    "version": 3
   },
   "file_extension": ".py",
   "mimetype": "text/x-python",
   "name": "python",
   "nbconvert_exporter": "python",
   "pygments_lexer": "ipython3",
   "version": "3.9.12"
  }
 },
 "nbformat": 4,
 "nbformat_minor": 5
}
