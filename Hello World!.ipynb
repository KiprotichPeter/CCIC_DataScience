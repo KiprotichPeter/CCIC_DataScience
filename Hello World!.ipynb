{
 "cells": [
  {
   "cell_type": "code",
   "execution_count": 1,
   "id": "e971b019",
   "metadata": {},
   "outputs": [
    {
     "name": "stdout",
     "output_type": "stream",
     "text": [
      "Hello, World! My name is PETER!\n"
     ]
    }
   ],
   "source": [
    "name=input(\"What is your name \");\n",
    "#name = \"Peter\"\n",
    "print(\"Hello, World! My name is \" + str(name) + \"!\");"
   ]
  }
 ],
 "metadata": {
  "kernelspec": {
   "display_name": "Python 3.10.6 64-bit (microsoft store)",
   "language": "python",
   "name": "python3"
  },
  "language_info": {
   "codemirror_mode": {
    "name": "ipython",
    "version": 3
   },
   "file_extension": ".py",
   "mimetype": "text/x-python",
   "name": "python",
   "nbconvert_exporter": "python",
   "pygments_lexer": "ipython3",
   "version": "3.10.7"
  },
  "vscode": {
   "interpreter": {
    "hash": "791f65838cec2b63fb0c2222cec7d9c0a0a8e93fdff3fc6e4f51e9154f4ce418"
   }
  }
 },
 "nbformat": 4,
 "nbformat_minor": 5
}
