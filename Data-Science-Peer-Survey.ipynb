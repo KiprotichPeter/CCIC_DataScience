{
 "cells": [
  {
   "cell_type": "code",
   "execution_count": null,
   "id": "94d59c3f",
   "metadata": {},
   "outputs": [],
   "source": [
    "print(\"How you feeling today? From a scale of 1 to 5\")\n",
    "Q1 = {\"One\":1,\"Two\":0,\"Three\":3,\"Four\":12,\"Five\":1}\n",
    "for i, num in Q1.items():\n",
    "    print(i, num * \"*\")"
   ]
  },
  {
   "cell_type": "code",
   "execution_count": null,
   "id": "3e274a82",
   "metadata": {},
   "outputs": [],
   "source": [
    "print(\"Planning on going to college? Yes or No\")\n",
    "ans = {\"Yes\":16,\"No\":1, \"Maybe\": 0}\n",
    "for i, count in ans.items():\n",
    "    print(i ,count * \"*\")"
   ]
  },
  {
   "cell_type": "code",
   "execution_count": null,
   "id": "d4ae5ba6",
   "metadata": {},
   "outputs": [],
   "source": [
    "print(\"Rate this class from 1 to 5.\")\n",
    "ans2 = {\"One\":1,\"Two\":0,\"Three\":2,\"Four\":13,\"Five\":1}\n",
    "for i, num in ans2.items():\n",
    "    print(i, num * \"*\")"
   ]
  },
  {
   "cell_type": "code",
   "execution_count": null,
   "id": "7e311fd3",
   "metadata": {},
   "outputs": [],
   "source": [
    "print(\"What other coding languages do you know?\")"
   ]
  },
  {
   "cell_type": "code",
   "execution_count": null,
   "id": "1602bdfb",
   "metadata": {},
   "outputs": [],
   "source": [
    "print(\"What grade are you in?? (2022/2021 school year)\")\n",
    "ans4 = {\"Freshman\":1,\"Sophomore\":2,\"Junior\":5,\"Senior\":9}\n",
    "for i, classes in ans4.items():\n",
    "    print(i,classes * \"*\")"
   ]
  },
  {
   "cell_type": "code",
   "execution_count": null,
   "id": "3de7436c",
   "metadata": {},
   "outputs": [],
   "source": []
  }
 ],
 "metadata": {
  "kernelspec": {
   "display_name": "Python 3 (ipykernel)",
   "language": "python",
   "name": "python3"
  },
  "language_info": {
   "codemirror_mode": {
    "name": "ipython",
    "version": 3
   },
   "file_extension": ".py",
   "mimetype": "text/x-python",
   "name": "python",
   "nbconvert_exporter": "python",
   "pygments_lexer": "ipython3",
   "version": "3.9.12"
  }
 },
 "nbformat": 4,
 "nbformat_minor": 5
}
