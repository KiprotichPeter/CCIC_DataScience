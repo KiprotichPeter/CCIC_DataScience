{
 "cells": [
  {
   "cell_type": "code",
   "execution_count": 20,
   "id": "0b400d05",
   "metadata": {},
   "outputs": [
    {
     "name": "stdout",
     "output_type": "stream",
     "text": [
      "{'date': ['2001-08-01', '2001-08-02', '2001-08-03', '2001-08-04', '2001-08-05', '2001-08-06', '2001-08-07'], 'dayname': ['Wednesday', 'Thursday', 'Friday', 'Saturday', 'Sunday', 'Monday', 'Tuesday'], 'red': ['50', '60', '51', '79', '77', '93', '55'], 'green': ['25', '31', '24', '21', '39', '40', '32'], 'blue': ['71', '53', '50', '69', '57', '66', '63']}\n",
      "\n",
      "{'date': ['2001-08-02', '2001-08-03', '2001-08-04', '2001-08-05', '2001-08-06', '2001-08-07'], 'dayname': ['Thursday', 'Friday', 'Saturday', 'Sunday', 'Monday', 'Tuesday'], 'red': ['60', '51', '79', '77', '93', '55'], 'green': ['31', '24', '21', '39', '40', '32'], 'blue': ['53', '50', '69', '57', '66', '63']}\n"
     ]
    }
   ],
   "source": [
    "Challenge_3 ={\"date\":[\"2001-08-01\", \"2001-08-02\", \"2001-08-03\", \"2001-08-04\", \"2001-08-05\",\"2001-08-06\",\"2001-08-07\"],\n",
    "             \"dayname\": [\"Wednesday\", \"Thursday\", \"Friday\", \"Saturday\", \"Sunday\", \"Monday\", \"Tuesday\"],\n",
    "             \"red\":[\"50\",\"60\",\"51\",\"79\",\"77\",\"93\",\"55\"],\n",
    "              \"green\": [\"25\",\"31\",\"24\",\"21\",\"39\",\"40\",\"32\"],\n",
    "              \"blue\": [\"71\",\"53\",\"50\",\"69\",\"57\",\"66\",\"63\"]}\n",
    "print(Challenge_3)\n",
    "del Challenge_3[\"dayname\"][0]\n",
    "del Challenge_3[\"date\"][0]\n",
    "del Challenge_3[\"red\"][0]\n",
    "del Challenge_3[\"green\"][0]\n",
    "del Challenge_3[\"blue\"][0]\n",
    "print(\"\")\n",
    "print(Challenge_3)"
   ]
  },
  {
   "cell_type": "code",
   "execution_count": 11,
   "id": "dc244769",
   "metadata": {},
   "outputs": [],
   "source": [
    "\n"
   ]
  }
 ],
 "metadata": {
  "kernelspec": {
   "display_name": "Python 3 (ipykernel)",
   "language": "python",
   "name": "python3"
  },
  "language_info": {
   "codemirror_mode": {
    "name": "ipython",
    "version": 3
   },
   "file_extension": ".py",
   "mimetype": "text/x-python",
   "name": "python",
   "nbconvert_exporter": "python",
   "pygments_lexer": "ipython3",
   "version": "3.9.12"
  }
 },
 "nbformat": 4,
 "nbformat_minor": 5
}
