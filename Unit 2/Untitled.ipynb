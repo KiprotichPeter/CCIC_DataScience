{
 "cells": [
  {
   "cell_type": "code",
   "execution_count": null,
   "id": "f4364230",
   "metadata": {},
   "outputs": [],
   "source": [
    "import pandas as pd\n",
    "data = pd.read_csv('cereal.csv')\n",
    "data"
   ]
  },
  {
   "cell_type": "code",
   "execution_count": null,
   "id": "130cd2f6",
   "metadata": {},
   "outputs": [],
   "source": [
    "#Droping columns\n",
    "data = data.drop(data.columns[[1,2,3,4,5,6,7,7,8,10,11,12,13,14]], axis = 1)\n",
    "print(data)"
   ]
  },
  {
   "cell_type": "code",
   "execution_count": null,
   "id": "dfe5e71f",
   "metadata": {},
   "outputs": [],
   "source": [
    "#mean, median,mode\n",
    "mean = data['sugars'].mean()\n",
    "median = data['sugars'].median()\n",
    "mode = data['sugars'].mode()\n",
    "print(\"mean of sugar \", mean)\n",
    "print(\"Median of sugar \",median)\n",
    "print(\"mode of sugar \", mode)\n",
    "mean1 = data['rating'].mean()\n",
    "median1 = data['rating'].median()\n",
    "mode1 = data['rating'].mode()\n",
    "print(\"mean of rating \", mean1)\n",
    "print(\"Median of rating \",median1)\n",
    "print(\"mode of rating \", mode1)"
   ]
  },
  {
   "cell_type": "code",
   "execution_count": null,
   "id": "0f9dc6cf",
   "metadata": {},
   "outputs": [],
   "source": [
    "#max and min\n",
    "max_data = data[\"sugars\"].max()\n",
    "min_data = data[\"sugars\"].min()\n",
    "print(\"max of sugars\", max_data)\n",
    "print(\"Min of sugars\", min_data)\n",
    "max_data1 = data[\"rating\"].max()\n",
    "min_data1 = data[\"rating\"].min()\n",
    "print(\"max of rating\", max_data1)\n",
    "print(\"Min of rating\", min_data1)"
   ]
  },
  {
   "cell_type": "code",
   "execution_count": null,
   "id": "0f2521bd",
   "metadata": {},
   "outputs": [],
   "source": [
    "data = data.dropna(subset='sugars')\n",
    "data"
   ]
  },
  {
   "cell_type": "code",
   "execution_count": null,
   "id": "0b311635",
   "metadata": {},
   "outputs": [],
   "source": [
    "data = data.drop(data.loc[data['sugars']==-1].index,inplace=True)\n",
    "data['sugars'].min()"
   ]
  },
  {
   "cell_type": "code",
   "execution_count": null,
   "id": "3d033795",
   "metadata": {},
   "outputs": [],
   "source": []
  },
  {
   "cell_type": "code",
   "execution_count": null,
   "id": "045ab8c8",
   "metadata": {},
   "outputs": [],
   "source": []
  }
 ],
 "metadata": {
  "kernelspec": {
   "display_name": "Python 3 (ipykernel)",
   "language": "python",
   "name": "python3"
  },
  "language_info": {
   "codemirror_mode": {
    "name": "ipython",
    "version": 3
   },
   "file_extension": ".py",
   "mimetype": "text/x-python",
   "name": "python",
   "nbconvert_exporter": "python",
   "pygments_lexer": "ipython3",
   "version": "3.9.12"
  }
 },
 "nbformat": 4,
 "nbformat_minor": 5
}
