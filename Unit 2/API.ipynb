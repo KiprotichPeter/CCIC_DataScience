{
 "cells": [
  {
   "cell_type": "code",
   "execution_count": 21,
   "id": "f8cb11ae",
   "metadata": {},
   "outputs": [],
   "source": [
    "import requests\n",
    "#Original url\n",
    "#url = \"https://api.nal.usda.gov/fdc/v1/foods/list?query=apple&pageSize=2&api_key=drw0gUPJSS5U0u3XGRPtYX0jC3Bw4vXW3FaMw3en\"\n",
    "#New page url\n",
    "#url = \"https://api.nal.usda.gov/fdc/v1/foods/list?query=apple&pageSize=2&api_key=drw0gUPJSS5U0u3XGRPtYX0jC3Bw4vXW3FaMw3en\"\n",
    "url = \"https://api.nal.usda.gov/fdc/v1/foods/list?dataType=Foundation,SR%20Legacy&pageSize=194&pageNumber=51\"\n",
    "\n",
    "responce = requests.get(url)"
   ]
  },
  {
   "cell_type": "code",
   "execution_count": 22,
   "id": "3d713380",
   "metadata": {},
   "outputs": [
    {
     "data": {
      "text/plain": [
       "{'error': {'code': 'API_KEY_MISSING',\n",
       "  'message': 'No api_key was supplied. Get one at https://api.nal.usda.gov:443'}}"
      ]
     },
     "execution_count": 22,
     "metadata": {},
     "output_type": "execute_result"
    }
   ],
   "source": [
    "responce = responce.json()\n",
    "responce"
   ]
  },
  {
   "cell_type": "code",
   "execution_count": 23,
   "id": "056da533",
   "metadata": {},
   "outputs": [
    {
     "ename": "KeyError",
     "evalue": "0",
     "output_type": "error",
     "traceback": [
      "\u001b[1;31m---------------------------------------------------------------------------\u001b[0m",
      "\u001b[1;31mKeyError\u001b[0m                                  Traceback (most recent call last)",
      "Input \u001b[1;32mIn [23]\u001b[0m, in \u001b[0;36m<cell line: 3>\u001b[1;34m()\u001b[0m\n\u001b[0;32m      1\u001b[0m \u001b[38;5;66;03m#This will show you the first dictionary\u001b[39;00m\n\u001b[0;32m      2\u001b[0m \u001b[38;5;66;03m#To c\u001b[39;00m\n\u001b[1;32m----> 3\u001b[0m \u001b[43mresponce\u001b[49m\u001b[43m[\u001b[49m\u001b[38;5;241;43m0\u001b[39;49m\u001b[43m]\u001b[49m\n",
      "\u001b[1;31mKeyError\u001b[0m: 0"
     ]
    }
   ],
   "source": [
    "#This will show you the first dictionary\n",
    "#To c\n",
    "responce[0]"
   ]
  },
  {
   "cell_type": "code",
   "execution_count": 17,
   "id": "1c989682",
   "metadata": {},
   "outputs": [
    {
     "data": {
      "text/plain": [
       "1"
      ]
     },
     "execution_count": 17,
     "metadata": {},
     "output_type": "execute_result"
    }
   ],
   "source": [
    "#List the length of \n",
    "len(responce)"
   ]
  },
  {
   "cell_type": "code",
   "execution_count": null,
   "id": "d8afeacb",
   "metadata": {},
   "outputs": [],
   "source": [
    "#respond.ok"
   ]
  },
  {
   "cell_type": "markdown",
   "id": "dcf820b6",
   "metadata": {},
   "source": [
    "drw0gUPJSS5U0u3XGRPtYX0jC3Bw4vXW3FaMw3en\n"
   ]
  },
  {
   "cell_type": "code",
   "execution_count": null,
   "id": "e0cc48cd",
   "metadata": {},
   "outputs": [],
   "source": []
  },
  {
   "cell_type": "code",
   "execution_count": null,
   "id": "1ef568f7",
   "metadata": {},
   "outputs": [],
   "source": []
  }
 ],
 "metadata": {
  "kernelspec": {
   "display_name": "Python 3 (ipykernel)",
   "language": "python",
   "name": "python3"
  },
  "language_info": {
   "codemirror_mode": {
    "name": "ipython",
    "version": 3
   },
   "file_extension": ".py",
   "mimetype": "text/x-python",
   "name": "python",
   "nbconvert_exporter": "python",
   "pygments_lexer": "ipython3",
   "version": "3.9.12"
  }
 },
 "nbformat": 4,
 "nbformat_minor": 5
}
