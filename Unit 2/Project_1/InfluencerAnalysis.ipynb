{
 "cells": [
  {
   "cell_type": "code",
   "execution_count": null,
   "id": "c9d8aabe",
   "metadata": {},
   "outputs": [],
   "source": [
    "import pandas as pd\n",
    "import matplotlib.pyplot as plt\n",
    "import seaborn as sns"
   ]
  },
  {
   "cell_type": "code",
   "execution_count": null,
   "id": "7e8bc95f",
   "metadata": {},
   "outputs": [],
   "source": [
    "#Read the csv file to this files\n",
    "data = pd.read_csv('Top_Influencers.csv')\n",
    "data.head()"
   ]
  },
  {
   "cell_type": "code",
   "execution_count": null,
   "id": "3c1b3da3",
   "metadata": {},
   "outputs": [],
   "source": [
    "#Drope the one with missing values in their collumns\n",
    "data = data.dropna()\n",
    "data.head(5)"
   ]
  },
  {
   "cell_type": "code",
   "execution_count": null,
   "id": "a6f855c4",
   "metadata": {},
   "outputs": [],
   "source": [
    "#Drop every value except Influence Score and Posts\n",
    "data = data.drop(data.columns[[0,1,3,4,6,7,8,9]], axis = 1)\n",
    "data.head()"
   ]
  },
  {
   "cell_type": "code",
   "execution_count": null,
   "id": "f825d476",
   "metadata": {},
   "outputs": [],
   "source": [
    "#sns.regplot(x=data[\"Influence Score\"], y=data[\"Posts\"])\n"
   ]
  },
  {
   "cell_type": "code",
   "execution_count": null,
   "id": "fe4fff9c",
   "metadata": {},
   "outputs": [],
   "source": [
    "#First remove the strings\n",
    "data['Influence Score'] = data['Influence Score'].map(lambda x: x.lstrip('+-').rstrip('kK'))\n",
    "data['Influence Score'] = data['Influence Score'].astype(float)\n",
    "data['Posts'] = data['Posts'].map(lambda x: x.lstrip('+-').rstrip('aAbBcCkK'))\n",
    "data['Posts'] = data['Posts'].astype(float)\n",
    "data.head()\n",
    "df.info"
   ]
  },
  {
   "cell_type": "code",
   "execution_count": null,
   "id": "e5c0cd4d",
   "metadata": {},
   "outputs": [],
   "source": [
    "#First remove the strings\n",
    "#mean\n",
    "mean1 = data['Influence Score'].mean()\n",
    "mean2 = data['Posts'].mean()\n",
    "median1 = data['Influence Score'].median()\n",
    "median2 = data['Posts'].median()\n",
    "mode1 = data['Influence Score'].mode()\n",
    "mode2 = data['Posts'].mode()\n",
    "print(mean1)\n",
    "print(median1)\n",
    "print(mode1)\n",
    "\n",
    "print(mean2)\n",
    "print(median2)\n",
    "print(mode2)\n"
   ]
  },
  {
   "cell_type": "code",
   "execution_count": null,
   "id": "d3cbc4b8",
   "metadata": {},
   "outputs": [],
   "source": []
  },
  {
   "cell_type": "code",
   "execution_count": null,
   "id": "a10a7bb4",
   "metadata": {},
   "outputs": [],
   "source": []
  }
 ],
 "metadata": {
  "kernelspec": {
   "display_name": "Python 3 (ipykernel)",
   "language": "python",
   "name": "python3"
  },
  "language_info": {
   "codemirror_mode": {
    "name": "ipython",
    "version": 3
   },
   "file_extension": ".py",
   "mimetype": "text/x-python",
   "name": "python",
   "nbconvert_exporter": "python",
   "pygments_lexer": "ipython3",
   "version": "3.9.12"
  }
 },
 "nbformat": 4,
 "nbformat_minor": 5
}
