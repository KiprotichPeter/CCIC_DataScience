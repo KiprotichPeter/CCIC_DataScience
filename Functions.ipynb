{
 "cells": [
  {
   "cell_type": "code",
   "execution_count": null,
   "id": "4269ae22",
   "metadata": {},
   "outputs": [],
   "source": [
    "def sort (num):\n",
    "    num = [1,3,5,4,6]\n",
    "    lenght = len(num)\n",
    "    for i in range(lenght):\n",
    "        sorted = True\n",
    "        for j in range(lenght -i -1 ):\n",
    "            if num[j] > num[j + 1]:\n",
    "                num[j], num[j + 1] = num[j + 1], num[j]\n",
    "                sorted = False\n",
    "    if sorted:\n",
    "        print(num)\n",
    "print(sort)"
   ]
  },
  {
   "cell_type": "code",
   "execution_count": 6,
   "id": "eadab00d",
   "metadata": {},
   "outputs": [
    {
     "name": "stdout",
     "output_type": "stream",
     "text": [
      "[6, 5, 4, 3, 1]\n"
     ]
    }
   ],
   "source": [
    "\n",
    "def sort(num):\n",
    "    change = True\n",
    "    while change:\n",
    "        change = False\n",
    "        for i in range(len(num) - 1):\n",
    "            if num[i] < num[i + 1]:\n",
    "                num[i], num[i + 1] = num[i + 1], num[i]\n",
    "                change = True\n",
    "\n",
    "list = [1, 3, 5, 4, 6]\n",
    "sort(list)\n",
    "print(list)"
   ]
  }
 ],
 "metadata": {
  "kernelspec": {
   "display_name": "Python 3 (ipykernel)",
   "language": "python",
   "name": "python3"
  },
  "language_info": {
   "codemirror_mode": {
    "name": "ipython",
    "version": 3
   },
   "file_extension": ".py",
   "mimetype": "text/x-python",
   "name": "python",
   "nbconvert_exporter": "python",
   "pygments_lexer": "ipython3",
   "version": "3.9.12"
  }
 },
 "nbformat": 4,
 "nbformat_minor": 5
}
