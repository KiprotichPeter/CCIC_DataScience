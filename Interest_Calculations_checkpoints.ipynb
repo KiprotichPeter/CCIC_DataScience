{
 "cells": [
  {
   "cell_type": "code",
   "execution_count": null,
   "id": "953baf11",
   "metadata": {},
   "outputs": [],
   "source": [
    "#Problem 1\n",
    "principle_balance = 400\n",
    "interest_Rate = 0.02\n",
    "time_in_years = 20\n",
    "A = round(principle_balance * ((1 + interest_Rate )**time_in_years))\n",
    "print(A)"
   ]
  },
  {
   "cell_type": "code",
   "execution_count": null,
   "id": "a9928bae",
   "metadata": {},
   "outputs": [],
   "source": [
    "#Problem 2\n",
    "Initial_pay = 140\n",
    "ineterest_rate = .14\n",
    "Final_pay = (Initial_pay-(Initial_pay*ineterest_rate))\n",
    "print(Final_pay)"
   ]
  },
  {
   "cell_type": "code",
   "execution_count": null,
   "id": "9e2b03d3",
   "metadata": {},
   "outputs": [],
   "source": [
    "#Problem 3\n",
    "principle = 300\n",
    "rate_by_year = 0.06\n",
    "rate_by_month = rate_by_year / 12\n",
    "A = (principle * ( 1 + (rate_by_month / 1)) ** (1 * 6))\n",
    "print(A)"
   ]
  },
  {
   "cell_type": "code",
   "execution_count": null,
   "id": "7b34655b",
   "metadata": {},
   "outputs": [],
   "source": [
    "#Every two weeks check\n",
    "being_paid = 850\n",
    "#Charge fee\n",
    "tranfer_payment = being_paid * .03\n",
    "#Amount he sents home\n",
    "amount_sent_home = 120\n",
    "#Tranfer fee\n",
    "tranfer_amount = amount_sent_home * .10\n",
    "#Weeks in one year\n",
    "weeks_in_one_year = 12\n",
    "#Fee amount being chagered by the bank after one year\n",
    "bank_charge_amount = tranfer_payment * weeks_in_one_year\n",
    "print(bank_charge_amount)\n",
    "#Fee amount being chargered after one year senting home some money\n",
    "sent_home_tranfer_year = tranfer_amount * 12\n",
    "#Total amount the bank and the amount chargered when he sents home after one year\n",
    "total_amount_chargered = ((tranfer_payment + tranfer_amount)*weeks_in_one_year)\n",
    "#Percent of the fee he gets chargered after one year\n",
    "percent_chargered = ((total_amount_chargered / being_paid) * 100)\n",
    "print(percent_chargered)"
   ]
  },
  {
   "cell_type": "code",
   "execution_count": null,
   "id": "817a15fb",
   "metadata": {},
   "outputs": [],
   "source": [
    "#Probem 5\n",
    "#This is the amount she needs\n",
    "principle = 400\n",
    "#Amount she will have to pay to get the loan\n",
    "interest = 50\n",
    "#After one year\n",
    "time_in_years = 1\n",
    "#The interest rate after one year\n",
    "interest_rate = interest / (principle * time_in_years)\n",
    "#The percent of the interest rate after one year\n",
    "interest_rate_percent = interest_rate * 100\n",
    "print(interest_rate_percent)"
   ]
  },
  {
   "cell_type": "code",
   "execution_count": null,
   "id": "3e483ea1",
   "metadata": {},
   "outputs": [],
   "source": [
    "#Probem 6\n",
    "tax_refund = 1385\n",
    "interest_rate = 0.07\n",
    "h_and_r_charge = 1385 * interest_rate\n",
    "tax_refund = tax_refund - h_and_r_charge  \n",
    "APR = 52 * (interest_rate / 2)\n",
    "print(tax_refund)\n",
    "print(APR)\n"
   ]
  },
  {
   "cell_type": "code",
   "execution_count": null,
   "id": "73eda146",
   "metadata": {},
   "outputs": [],
   "source": []
  }
 ],
 "metadata": {
  "kernelspec": {
   "display_name": "Python 3 (ipykernel)",
   "language": "python",
   "name": "python3"
  },
  "language_info": {
   "codemirror_mode": {
    "name": "ipython",
    "version": 3
   },
   "file_extension": ".py",
   "mimetype": "text/x-python",
   "name": "python",
   "nbconvert_exporter": "python",
   "pygments_lexer": "ipython3",
   "version": "3.9.12"
  }
 },
 "nbformat": 4,
 "nbformat_minor": 5
}
